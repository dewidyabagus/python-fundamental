{
 "cells": [
  {
   "cell_type": "markdown",
   "id": "c9db7fda",
   "metadata": {},
   "source": [
    "## Percabangan di Python"
   ]
  },
  {
   "cell_type": "markdown",
   "id": "778e15aa",
   "metadata": {},
   "source": [
    "Kondisi If ..., dimana hanya ada satu kondisi yang dievaluasi dan ketika nilai benar (True) akan masuk pada bagian Eksepresi\n",
    "dan ketika bernilai salah (False) akan dilanjutkan pada baris kode setelah kondisi if."
   ]
  },
  {
   "cell_type": "code",
   "execution_count": 1,
   "id": "6148ae55",
   "metadata": {},
   "outputs": [
    {
     "name": "stdout",
     "output_type": "stream",
     "text": [
      "nilai lebih dari 7.\n"
     ]
    }
   ],
   "source": [
    "# Perbandingan nilai\n",
    "nilai = 8\n",
    "if nilai > 7: # Kondisi\n",
    "    print(\"nilai lebih dari 7.\") # Ekspresi\n",
    "\n",
    "# baris kode setelah kondisi if pertama\n",
    "if nilai > 8: # Kondisi\n",
    "    print(\"nilai lebih dari 8.\") # Ekspresi\n",
    "\n",
    "# baris kode setelah kondisi if kedua"
   ]
  },
  {
   "cell_type": "markdown",
   "id": "a575ec4d",
   "metadata": {},
   "source": [
    "Kondisi If ... Else, kondisi ini pengembangan dari kondisi If ... dimana penambahan dibagian penanganan ketika kondisi pertama tidak terpenuhi makan akan masuk ke ekspresi yang sudah disiapkan."
   ]
  },
  {
   "cell_type": "code",
   "execution_count": 2,
   "id": "e726b707",
   "metadata": {
    "scrolled": true
   },
   "outputs": [
    {
     "name": "stdout",
     "output_type": "stream",
     "text": [
      "Siswa LULUS.\n"
     ]
    }
   ],
   "source": [
    "# Menentukan kelulusan siswa\n",
    "nilaiAkhir = 7.5\n",
    "\n",
    "if (nilaiAkhir > 7):\n",
    "    print(\"Siswa LULUS.\")\n",
    "    \n",
    "else:\n",
    "    print(\"Siswa TIDAK LULUS\")\n",
    "    "
   ]
  },
  {
   "cell_type": "markdown",
   "id": "d145ecbb",
   "metadata": {},
   "source": [
    "Kondisi If ... Elif ... Else, kondisi ini pengembangan dari kondisi If ... Else dimana penambahannya dibagian jumlah kondisi yang dapat ditangai lebih dari satu."
   ]
  },
  {
   "cell_type": "code",
   "execution_count": 3,
   "id": "dea0d06f",
   "metadata": {},
   "outputs": [
    {
     "name": "stdout",
     "output_type": "stream",
     "text": [
      "Nilai : C\n"
     ]
    }
   ],
   "source": [
    "# Menentukan grade nilai\n",
    "nilai = 7.8\n",
    "\n",
    "if nilai >= 9:\n",
    "    print(\"Nilai : A\")\n",
    "    \n",
    "elif nilai >= 8:\n",
    "    print(\"Nilai : B\")\n",
    "    \n",
    "elif nilai >= 7:\n",
    "    print(\"Nilai : C\")\n",
    "    \n",
    "elif nilai >= 6:\n",
    "    print(\"Nilai : D\")\n",
    "    \n",
    "else:\n",
    "    print(\"Nilai : E\")"
   ]
  },
  {
   "cell_type": "markdown",
   "id": "b31c7378",
   "metadata": {},
   "source": [
    "Operator ternary atau disebut Conditional Ternary Operator merupakan operasi yang melibatkan 3 buah operand dalam sebuah operasi."
   ]
  },
  {
   "cell_type": "code",
   "execution_count": 1,
   "id": "3bb11624",
   "metadata": {},
   "outputs": [
    {
     "name": "stdout",
     "output_type": "stream",
     "text": [
      "Anda LULUS\n",
      "Anda LULUS\n"
     ]
    }
   ],
   "source": [
    "# Kondisi If ... Else ...\n",
    "nilai = 7.5\n",
    "\n",
    "if (nilai > 7):\n",
    "    print(\"Anda LULUS\")\n",
    "\n",
    "else:\n",
    "    print(\"Anda TIDAK LULUS\")\n",
    "\n",
    "# Ternary\n",
    "print(\"Anda LULUS\" if nilai > 7 else \"Anda TIDAK LULUS\")\n"
   ]
  }
 ],
 "metadata": {
  "kernelspec": {
   "display_name": "Python 3 (ipykernel)",
   "language": "python",
   "name": "python3"
  },
  "language_info": {
   "codemirror_mode": {
    "name": "ipython",
    "version": 3
   },
   "file_extension": ".py",
   "mimetype": "text/x-python",
   "name": "python",
   "nbconvert_exporter": "python",
   "pygments_lexer": "ipython3",
   "version": "3.8.7"
  }
 },
 "nbformat": 4,
 "nbformat_minor": 5
}
