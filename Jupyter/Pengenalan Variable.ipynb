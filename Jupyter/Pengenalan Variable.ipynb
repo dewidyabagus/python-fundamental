{
 "cells": [
  {
   "cell_type": "markdown",
   "id": "109674f4",
   "metadata": {},
   "source": [
    "### Pengenalan Variabel Python"
   ]
  },
  {
   "cell_type": "raw",
   "id": "1a1f3bae",
   "metadata": {},
   "source": []
  }
 ],
 "metadata": {
  "kernelspec": {
   "display_name": "Python 3 (ipykernel)",
   "language": "python",
   "name": "python3"
  },
  "language_info": {
   "codemirror_mode": {
    "name": "ipython",
    "version": 3
   },
   "file_extension": ".py",
   "mimetype": "text/x-python",
   "name": "python",
   "nbconvert_exporter": "python",
   "pygments_lexer": "ipython3",
   "version": "3.8.7"
  }
 },
 "nbformat": 4,
 "nbformat_minor": 5
}
