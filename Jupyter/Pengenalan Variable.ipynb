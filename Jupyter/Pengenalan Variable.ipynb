{
 "cells": [
  {
   "cell_type": "markdown",
   "id": "109674f4",
   "metadata": {},
   "source": [
    "### Variabel Pada Python"
   ]
  },
  {
   "cell_type": "markdown",
   "id": "16d086c1",
   "metadata": {},
   "source": [
    "Variabel adalah lokasi memori yang dicadangkan untuk menyimpan nilai-nilai. Di dalam pemrograman python, variable bersifat dinamis dimana tidak perlu melakukan deklarasi variabel untuk membuat dan bisa berganti tipe data.\n"
   ]
  },
  {
   "cell_type": "markdown",
   "id": "7da3516c",
   "metadata": {},
   "source": [
    "Ketentuan pembuatan variabel :\n",
    "1. Karakter pertama harus huruf atau garis bawah/underscore(_)\n",
    "2. Karakter kedua bisa berupa huruf, garis bawah/underscore(_), atau angka\n",
    "3. Karakter nama variabel python bersifat sensitif (case-sensitif)"
   ]
  },
  {
   "cell_type": "code",
   "execution_count": 1,
   "id": "10bc3fef",
   "metadata": {},
   "outputs": [
    {
     "name": "stdout",
     "output_type": "stream",
     "text": [
      "John Doe\n"
     ]
    }
   ],
   "source": [
    "# proses memasukan data ke variabel\n",
    "nama = \"John Doe\"\n",
    "# proses mencetak variabel\n",
    "print(nama)"
   ]
  },
  {
   "cell_type": "code",
   "execution_count": 3,
   "id": "50e1035f",
   "metadata": {},
   "outputs": [
    {
     "name": "stdout",
     "output_type": "stream",
     "text": [
      "20\n",
      "<class 'int'>\n",
      "Dua Puluh\n",
      "<class 'str'>\n"
     ]
    }
   ],
   "source": [
    "# nilai dan tipe data dalam variabel dapat diubah\n",
    "umur = 20           # nilai awal\n",
    "print(umur)         # mencetak nilai umur\n",
    "print(type(umur))   # melihat tipe data umur\n",
    "umur = \"Dua Puluh\"  # merubah nilai umur\n",
    "print(umur)         # mencetak nilai umur\n",
    "print(type(umur))   # melihat tipe data umur"
   ]
  },
  {
   "cell_type": "code",
   "execution_count": 7,
   "id": "000a361f",
   "metadata": {},
   "outputs": [
    {
     "name": "stdout",
     "output_type": "stream",
     "text": [
      "Biodata:\n",
      " Widya Ade Bagus \n",
      " 25 \n",
      " Berpetualang\n"
     ]
    }
   ],
   "source": [
    "namaDepan = \"Widya Ade\"\n",
    "namaBelakang = \"Bagus\"\n",
    "nama = namaDepan + \" \" + namaBelakang\n",
    "umur = 25\n",
    "hobi = \"Berpetualang\"\n",
    "print(\"Biodata:\\n\", nama, \"\\n\", umur, \"\\n\", hobi)"
   ]
  },
  {
   "cell_type": "code",
   "execution_count": 9,
   "id": "0222dd63",
   "metadata": {},
   "outputs": [
    {
     "name": "stdout",
     "output_type": "stream",
     "text": [
      "Luas:  50\n"
     ]
    }
   ],
   "source": [
    "panjang = 10\n",
    "lebar = 5\n",
    "luas = panjang * lebar\n",
    "print(\"Luas: \", luas)"
   ]
  }
 ],
 "metadata": {
  "kernelspec": {
   "display_name": "Python 3 (ipykernel)",
   "language": "python",
   "name": "python3"
  },
  "language_info": {
   "codemirror_mode": {
    "name": "ipython",
    "version": 3
   },
   "file_extension": ".py",
   "mimetype": "text/x-python",
   "name": "python",
   "nbconvert_exporter": "python",
   "pygments_lexer": "ipython3",
   "version": "3.8.7"
  }
 },
 "nbformat": 4,
 "nbformat_minor": 5
}
