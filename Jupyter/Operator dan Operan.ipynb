{
 "cells": [
  {
   "cell_type": "markdown",
   "id": "67d9a7b6",
   "metadata": {},
   "source": [
    "## Operator dan Operan"
   ]
  },
  {
   "cell_type": "markdown",
   "id": "38cb75b1",
   "metadata": {},
   "source": [
    "Operator adalah konstruksi yang dapat memanipulasi nilai dari operand. operand adalah nilai asal yang digunakan dalam operasi. Contoh, operasi: 5+2. Angka 5 dan 2 adalah Operand, sedangkan tanda (tambah +) adalah operator."
   ]
  },
  {
   "cell_type": "markdown",
   "id": "6e630454",
   "metadata": {},
   "source": [
    "Bahasa pemrograman python mendukung berbagai macam jenis operator, sebagai berikut:\n",
    "<ul>\n",
    "    <li>Operator Aritmatika (Arithmetic Operators)</li>\n",
    "<li>Operator Perbandingan (Comparison (Relational) Operators)</li>\n",
    "<li>Operator Penugasan (Assignment Operators)</li>\n",
    "<li>Operator Logika (Logical Operators)</li>\n",
    "<li>Operator Bitwise (Bitwise Operators)</li>\n",
    "<li>Operator Keanggotaan (Membership Operators)</li>\n",
    "<li>Operator Identitas (Identity Operators)</li>\n",
    "</ul>\n",
    "<small><i>Sumber : <a href=\"https://belajarpython.com/tutorial/operator-python\">https://belajarpython.com/tutorial/operator-python<a></i></small>"
   ]
  },
  {
   "cell_type": "markdown",
   "id": "59fafd3d",
   "metadata": {},
   "source": [
    "Contoh operator aritmatika"
   ]
  },
  {
   "cell_type": "code",
   "execution_count": 3,
   "id": "c3dd1e99",
   "metadata": {},
   "outputs": [
    {
     "name": "stdout",
     "output_type": "stream",
     "text": [
      "Jumlah Unggas : 30\n",
      "Stok Akhir :  5\n",
      "Luas bidang :  50\n",
      "Kue Yang Diterima :  2.0\n"
     ]
    }
   ],
   "source": [
    "# Penjumlahan\n",
    "ayam = 10\n",
    "bebek = 20\n",
    "unggas = ayam + bebek\n",
    "print(\"Jumlah Unggas :\", unggas)\n",
    "\n",
    "# Pengurangan\n",
    "stok = 10\n",
    "terjual = 5\n",
    "stok_akhir = stok - terjual\n",
    "print(\"Stok Akhir : \", stok_akhir)\n",
    "\n",
    "# perkalian\n",
    "panjang = 10\n",
    "lebar = 5\n",
    "luas = panjang * lebar\n",
    "print(\"Luas bidang : \", luas)\n",
    "\n",
    "# pembagian\n",
    "kue = 10\n",
    "anak = 5\n",
    "diterima = kue / anak\n",
    "print(\"Kue Yang Diterima : \", diterima)\n"
   ]
  }
 ],
 "metadata": {
  "kernelspec": {
   "display_name": "Python 3 (ipykernel)",
   "language": "python",
   "name": "python3"
  },
  "language_info": {
   "codemirror_mode": {
    "name": "ipython",
    "version": 3
   },
   "file_extension": ".py",
   "mimetype": "text/x-python",
   "name": "python",
   "nbconvert_exporter": "python",
   "pygments_lexer": "ipython3",
   "version": "3.8.7"
  }
 },
 "nbformat": 4,
 "nbformat_minor": 5
}
