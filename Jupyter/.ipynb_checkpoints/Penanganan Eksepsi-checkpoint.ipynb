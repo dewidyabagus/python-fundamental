{
 "cells": [
  {
   "cell_type": "markdown",
   "id": "9804cbe8",
   "metadata": {},
   "source": [
    "## Penanganan Eksepsi Python"
   ]
  },
  {
   "cell_type": "markdown",
   "id": "1cb05331",
   "metadata": {},
   "source": [
    "Representasi kesalahan dalam bentuk object"
   ]
  },
  {
   "cell_type": "code",
   "execution_count": 1,
   "id": "100ea130",
   "metadata": {},
   "outputs": [
    {
     "ename": "SyntaxError",
     "evalue": "invalid syntax (Temp/ipykernel_14244/449297444.py, line 2)",
     "output_type": "error",
     "traceback": [
      "\u001b[1;36m  File \u001b[1;32m\"C:\\Users\\WIDYAA~1\\AppData\\Local\\Temp/ipykernel_14244/449297444.py\"\u001b[1;36m, line \u001b[1;32m2\u001b[0m\n\u001b[1;33m    if x > 5\u001b[0m\n\u001b[1;37m            ^\u001b[0m\n\u001b[1;31mSyntaxError\u001b[0m\u001b[1;31m:\u001b[0m invalid syntax\n"
     ]
    }
   ],
   "source": [
    "x = 5\n",
    "if x > 5"
   ]
  },
  {
   "cell_type": "code",
   "execution_count": 2,
   "id": "f9836698",
   "metadata": {},
   "outputs": [
    {
     "ename": "ZeroDivisionError",
     "evalue": "division by zero",
     "output_type": "error",
     "traceback": [
      "\u001b[1;31m---------------------------------------------------------------------------\u001b[0m",
      "\u001b[1;31mZeroDivisionError\u001b[0m                         Traceback (most recent call last)",
      "\u001b[1;32mC:\\Users\\WIDYAA~1\\AppData\\Local\\Temp/ipykernel_14244/3627099327.py\u001b[0m in \u001b[0;36m<module>\u001b[1;34m\u001b[0m\n\u001b[1;32m----> 1\u001b[1;33m \u001b[1;36m2\u001b[0m\u001b[1;33m/\u001b[0m\u001b[1;36m0\u001b[0m\u001b[1;33m\u001b[0m\u001b[1;33m\u001b[0m\u001b[0m\n\u001b[0m",
      "\u001b[1;31mZeroDivisionError\u001b[0m: division by zero"
     ]
    }
   ],
   "source": [
    "2/0"
   ]
  },
  {
   "cell_type": "markdown",
   "id": "ef3911ea",
   "metadata": {},
   "source": [
    "Referensi Standard Exceptions <a href=\"https://belajarpython.com/tutorial/exception-python\">https://belajarpython.com/tutorial/exception-python</a>"
   ]
  },
  {
   "cell_type": "markdown",
   "id": "5cb0bbc8",
   "metadata": {},
   "source": [
    "#### Menangani Eksepsi Dengan Try, Except, Finally"
   ]
  },
  {
   "cell_type": "code",
   "execution_count": 4,
   "id": "a9745e69",
   "metadata": {},
   "outputs": [
    {
     "name": "stdout",
     "output_type": "stream",
     "text": [
      "Item masuk: a\n",
      "Upss! <class 'ValueError'> terjadi.\n",
      "Lanjut ke item berikutnya\n",
      "\n",
      "Item masuk: 0\n",
      "Upss! <class 'ZeroDivisionError'> terjadi.\n",
      "Lanjut ke item berikutnya\n",
      "\n",
      "Item masuk: 4\n",
      "Pengembalian dari: 1/ 4 = 0.25\n"
     ]
    }
   ],
   "source": [
    "# mengimport modul sys untuk mengambil jenis eksepsi\n",
    "import sys\n",
    "\n",
    "data = ['a', 0, 4]\n",
    "for item in data:\n",
    "    try:\n",
    "        print('Item masuk:', item)\n",
    "        r = 1 / int(item)\n",
    "        break\n",
    "    \n",
    "    except:\n",
    "        print('Upss!', sys.exc_info()[0], 'terjadi.')\n",
    "        print('Lanjut ke item berikutnya')\n",
    "        print()\n",
    "\n",
    "print('Pengembalian dari: 1 /', item, '=', r)"
   ]
  }
 ],
 "metadata": {
  "kernelspec": {
   "display_name": "Python 3 (ipykernel)",
   "language": "python",
   "name": "python3"
  },
  "language_info": {
   "codemirror_mode": {
    "name": "ipython",
    "version": 3
   },
   "file_extension": ".py",
   "mimetype": "text/x-python",
   "name": "python",
   "nbconvert_exporter": "python",
   "pygments_lexer": "ipython3",
   "version": "3.8.7"
  }
 },
 "nbformat": 4,
 "nbformat_minor": 5
}
