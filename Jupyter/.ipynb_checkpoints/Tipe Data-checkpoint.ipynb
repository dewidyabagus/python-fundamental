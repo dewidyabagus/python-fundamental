{
 "cells": [
  {
   "cell_type": "markdown",
   "id": "1766849a",
   "metadata": {},
   "source": [
    "### Tipe Data Python"
   ]
  },
  {
   "cell_type": "markdown",
   "id": "03f5beeb",
   "metadata": {},
   "source": [
    "Tipe data adalah suatu media atau memori dalam komputer yang digunakan untuk menyimpan informasi."
   ]
  },
  {
   "cell_type": "markdown",
   "id": "f10f414f",
   "metadata": {},
   "source": [
    "<h4>Berikut adalah tipe data dari bahasa pemrograman python:</h4>"
   ]
  },
  {
   "cell_type": "code",
   "execution_count": 1,
   "id": "cb788d1c",
   "metadata": {},
   "outputs": [
    {
     "name": "stdout",
     "output_type": "stream",
     "text": [
      "False\n"
     ]
    }
   ],
   "source": [
    "# TIPE DATA BOOLEAN\n",
    "# Menyatakan benar True/1, atau salah False/0\n",
    "sedangBelajar = False\n",
    "print(sedangBelajar)"
   ]
  },
  {
   "cell_type": "code",
   "execution_count": 2,
   "id": "e01ac66f",
   "metadata": {},
   "outputs": [
    {
     "name": "stdout",
     "output_type": "stream",
     "text": [
      "Widya Ade Bagus\n",
      "Widya Ade\n",
      "Perjalanan menuju angkasa oleh elon musk\n"
     ]
    }
   ],
   "source": [
    "# TIPE DATA STRING\n",
    "# Menyatakan karakter/kalimat yang berupa abjad, angka, karakter spesial dll yang diapit oleh \" \", ' ', \"\"\" \"\"\"\n",
    "namaLengkap = \"Widya Ade Bagus\"\n",
    "namaDepan = 'Widya Ade'\n",
    "catatan = \"\"\"Perjalanan menuju angkasa oleh elon musk\"\"\"\n",
    "print(namaLengkap)\n",
    "print(namaDepan)\n",
    "print(catatan)"
   ]
  },
  {
   "cell_type": "code",
   "execution_count": 3,
   "id": "d1f57258",
   "metadata": {},
   "outputs": [
    {
     "name": "stdout",
     "output_type": "stream",
     "text": [
      "Integer: 10\n",
      "Float: 165.85\n",
      "Hexadecimal: 154\n",
      "Complex: 5j\n"
     ]
    }
   ],
   "source": [
    "# TIPE DATA NUMBER\n",
    "\n",
    "# INTEGER\n",
    "# Meyatakan bilangan bulat\n",
    "berat = 10\n",
    "print(\"Integer:\", berat)\n",
    "\n",
    "# FLOAT\n",
    "# Menyatakan bilangan pecahan\n",
    "tinggi = 165.85\n",
    "print(\"Float:\", tinggi)\n",
    "\n",
    "# HEXADECIMAL\n",
    "# Menyatakan bilangan dalam format heksa (bilangan berbasih 16)\n",
    "bilangan = 0x9a # diawali dengan 0x dan bilangan heksa\n",
    "print(\"Hexadecimal:\", bilangan) # cetak nilai heksa dalam bentuk desimal\n",
    "\n",
    "# COMPLEX\n",
    "# Menyatakan pasangan angka real dan imajiner\n",
    "angka = 5j\n",
    "print(\"Complex:\", angka)"
   ]
  },
  {
   "cell_type": "code",
   "execution_count": 16,
   "id": "be9654ba",
   "metadata": {},
   "outputs": [
    {
     "name": "stdout",
     "output_type": "stream",
     "text": [
      "[1, 'Dua', 3.0, False, 56, 59]\n",
      "1\n",
      "[1, 'Dua']\n"
     ]
    }
   ],
   "source": [
    "# LIST\n",
    "# Menyatakan data dengan item berurutan.\n",
    "deret = [1, \"Dua\", 3.0, False, 56, 59]\n",
    "print(deret)      # Mencetak semua list\n",
    "print(deret[0])   # Mencetak list pada bagian index pertama\n",
    "print(deret[:2]) # slicing/pengaksesan sejumlah item"
   ]
  },
  {
   "cell_type": "code",
   "execution_count": 24,
   "id": "8542bff2",
   "metadata": {},
   "outputs": [
    {
     "name": "stdout",
     "output_type": "stream",
     "text": [
      "('Widya Ade Bagus', 25, False)\n",
      "25\n",
      "('Widya Ade Bagus', 25)\n"
     ]
    }
   ],
   "source": [
    "# TUPLE\n",
    "# Jenis data lain yang mirip dengan list. perbedaannya dengan list adalah anggota tidak dapat dirubah (imutable). \n",
    "# list termasuk (mutable)\n",
    "data = (\"Widya Ade Bagus\", 25, False)\n",
    "print(data)     # mencetak tuple\n",
    "print(data[1])  # mencetak tuple pada bagian index kedua\n",
    "print(data[:2]) # slicing dari index pertama sampai index ke dua"
   ]
  },
  {
   "cell_type": "code",
   "execution_count": 17,
   "id": "69ee1e27",
   "metadata": {},
   "outputs": [
    {
     "name": "stdout",
     "output_type": "stream",
     "text": [
      "{1, 2, 3, 4, 5, 6, 7, 8, 9}\n"
     ]
    }
   ],
   "source": [
    "# SET\n",
    "# Salah satu tipe data di Python yang tidak berurut (unordered).\n",
    "# Set memiliki anggota unik (tidak ada duplikasi)\n",
    "data = {1,2,2,3,3,4,5,6,7,8,8,9}\n",
    "print(data)"
   ]
  },
  {
   "cell_type": "code",
   "execution_count": 21,
   "id": "7bb1880e",
   "metadata": {},
   "outputs": [
    {
     "name": "stdout",
     "output_type": "stream",
     "text": [
      "{'nama': 'widya ade bagus', 'umur': 25, 'hobi': 'berpetualang'}\n"
     ]
    }
   ],
   "source": [
    "# DICTIONARY\n",
    "# Tipe data yang tiap anggotanya terdiri dari pasangan kunci-nilai (key:value).\n",
    "biodata = {\"nama\": \"widya ade bagus\", \"umur\": 25, \"hobi\": \"berpetualang\"}\n",
    "print(biodata)"
   ]
  }
 ],
 "metadata": {
  "kernelspec": {
   "display_name": "Python 3 (ipykernel)",
   "language": "python",
   "name": "python3"
  },
  "language_info": {
   "codemirror_mode": {
    "name": "ipython",
    "version": 3
   },
   "file_extension": ".py",
   "mimetype": "text/x-python",
   "name": "python",
   "nbconvert_exporter": "python",
   "pygments_lexer": "ipython3",
   "version": "3.8.7"
  }
 },
 "nbformat": 4,
 "nbformat_minor": 5
}
