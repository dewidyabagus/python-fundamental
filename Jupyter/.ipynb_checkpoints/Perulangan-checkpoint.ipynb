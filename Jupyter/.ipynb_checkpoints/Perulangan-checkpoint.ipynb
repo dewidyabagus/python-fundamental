{
 "cells": [
  {
   "cell_type": "markdown",
   "id": "6a23248e",
   "metadata": {},
   "source": [
    "## Perulangan Python"
   ]
  },
  {
   "cell_type": "markdown",
   "id": "6e86049a",
   "metadata": {},
   "source": [
    "Perulangan menggunakan FOR ..."
   ]
  },
  {
   "cell_type": "code",
   "execution_count": 1,
   "id": "ae622661",
   "metadata": {
    "collapsed": true
   },
   "outputs": [
    {
     "name": "stdout",
     "output_type": "stream",
     "text": [
      "Total element:  45\n"
     ]
    }
   ],
   "source": [
    "# Format FOR\n",
    "# for var in sequence:\n",
    "#   body of for\n",
    "#\n",
    "# sequence merupakan tipe data berurutan seperti string, list dan tuple\n",
    "element = [1, 2, 3, 4, 5, 6, 7, 8, 9]\n",
    "\n",
    "total = 0\n",
    "\n",
    "for item in element:\n",
    "    total += item\n",
    "\n",
    "print(\"Total element: \", total)"
   ]
  },
  {
   "cell_type": "markdown",
   "id": "44034bd1",
   "metadata": {},
   "source": [
    "Fungsi range()"
   ]
  },
  {
   "cell_type": "code",
   "execution_count": 2,
   "id": "33724166",
   "metadata": {
    "collapsed": true
   },
   "outputs": [
    {
     "name": "stdout",
     "output_type": "stream",
     "text": [
      "Saya Suka MM\n",
      "Saya Suka IPA\n",
      "Saya Suka IPS\n",
      "Saya Suka Sejarah\n",
      "\n",
      "Saya Suka MM\n",
      "Saya Suka IPA\n",
      "Saya Suka IPS\n",
      "Saya Suka Sejarah\n"
     ]
    }
   ],
   "source": [
    "# Fungsi range() digunakan untuk menghasilkan deret bilangan.\n",
    "# print(list(range(10))) # menghasilkan [0, 1, 2, 3, 4, 5, 6, 7, 8, 9]\n",
    "\n",
    "daftarMapel = [\"MM\", \"IPA\", \"IPS\", \"Sejarah\"]\n",
    "\n",
    "# menggunakan range\n",
    "for mapel in range(len(daftarMapel)):\n",
    "    print(\"Saya Suka\", daftarMapel[mapel])\n",
    "\n",
    "print(\"\")\n",
    "\n",
    "# tidak menggunakan range\n",
    "for mapel in daftarMapel:\n",
    "    print(\"Saya Suka\", mapel)\n"
   ]
  },
  {
   "cell_type": "markdown",
   "id": "4294d41d",
   "metadata": {},
   "source": [
    "Perulangan menggunakan WHILE ..."
   ]
  },
  {
   "cell_type": "code",
   "execution_count": 5,
   "id": "7ab50d49",
   "metadata": {
    "collapsed": true
   },
   "outputs": [
    {
     "name": "stdout",
     "output_type": "stream",
     "text": [
      "Bilangan: 0\n",
      "Bilangan: 1\n",
      "Bilangan: 2\n",
      "Bilangan: 3\n",
      "Bilangan: 4\n"
     ]
    }
   ],
   "source": [
    "# Format WHILE\n",
    "# while (condition):\n",
    "#    expression (s)\n",
    "\n",
    "counter = 0\n",
    "\n",
    "while (counter < 5):\n",
    "    print(\"Bilangan:\", counter)\n",
    "    \n",
    "    counter += 1"
   ]
  },
  {
   "cell_type": "markdown",
   "id": "4a0e039d",
   "metadata": {},
   "source": [
    "Perulangan menggunakan WHILE ... ELSE"
   ]
  },
  {
   "cell_type": "code",
   "execution_count": 6,
   "id": "9c59b7a6",
   "metadata": {
    "collapsed": true
   },
   "outputs": [
    {
     "name": "stdout",
     "output_type": "stream",
     "text": [
      "Perulangan: 0\n",
      "Perulangan: 1\n",
      "Perulangan: 2\n",
      "Perulangan: 3\n",
      "Perulangan: 4\n",
      "Perulangan lebih dari 4\n"
     ]
    }
   ],
   "source": [
    "count = 0\n",
    "\n",
    "while (count < 5):\n",
    "    print(\"Perulangan:\", count)\n",
    "    \n",
    "    count += 1\n",
    "\n",
    "else:\n",
    "    print(\"Perulangan lebih dari 4\")"
   ]
  },
  {
   "cell_type": "markdown",
   "id": "0e9a9f44",
   "metadata": {},
   "source": [
    "Infinite Loop"
   ]
  },
  {
   "cell_type": "code",
   "execution_count": 1,
   "id": "75e6ffdf",
   "metadata": {
    "collapsed": true
   },
   "outputs": [
    {
     "name": "stdout",
     "output_type": "stream",
     "text": [
      "Bilangan:  0\n"
     ]
    }
   ],
   "source": [
    "# Infinte loop adalah kejadian dimana perulangan tidak ada akhir.\n",
    "\n",
    "counter = 0\n",
    "\n",
    "while (counter < 5):\n",
    "    print(\"Bilangan: \", counter)\n",
    "    \n",
    "# perulangan ini akan berjalan terus tanpa ada henti."
   ]
  },
  {
   "cell_type": "markdown",
   "id": "914cf339",
   "metadata": {},
   "source": [
    "Pengendalian perulangan\n",
    "1. Keyword break"
   ]
  },
  {
   "cell_type": "code",
   "execution_count": 3,
   "id": "797e449a",
   "metadata": {
    "collapsed": true
   },
   "outputs": [
    {
     "name": "stdout",
     "output_type": "stream",
     "text": [
      "Huruf sekarang: P\n",
      "Huruf sekarang: r\n",
      "Huruf sekarang: o\n",
      "Huruf sekarang: g\n",
      "Huruf sekarang: r\n",
      "Good by\n"
     ]
    }
   ],
   "source": [
    "text = \"Programming\"\n",
    "\n",
    "for var in text:   \n",
    "    if var == \"a\":\n",
    "        break\n",
    "    print(\"Huruf sekarang:\", var)\n",
    "print(\"Good by\")"
   ]
  },
  {
   "cell_type": "markdown",
   "id": "47913b2d",
   "metadata": {},
   "source": [
    "2. Keyword continue"
   ]
  },
  {
   "cell_type": "code",
   "execution_count": 4,
   "id": "489a6cc3",
   "metadata": {
    "collapsed": true
   },
   "outputs": [
    {
     "name": "stdout",
     "output_type": "stream",
     "text": [
      "Huruf sekarang: P\n",
      "Huruf sekarang: r\n",
      "Huruf sekarang: o\n",
      "Huruf sekarang: g\n",
      "Huruf sekarang: r\n",
      "Huruf sekarang: m\n",
      "Huruf sekarang: m\n",
      "Huruf sekarang: i\n",
      "Huruf sekarang: n\n",
      "Huruf sekarang: g\n",
      "Good by\n"
     ]
    }
   ],
   "source": [
    "text = \"Programming\"\n",
    "\n",
    "for var in text:\n",
    "    if var == \"a\":\n",
    "        continue\n",
    "    print(\"Huruf sekarang:\", var)\n",
    "    \n",
    "print(\"Good by\")"
   ]
  },
  {
   "cell_type": "markdown",
   "id": "cf93cd49",
   "metadata": {},
   "source": [
    "<small>Sumber: <i><a href=\"https://www.pythonindo.com/perulangan/\">https://www.pythonindo.com/perulangan/</a></i></small>"
   ]
  }
 ],
 "metadata": {
  "kernelspec": {
   "display_name": "Python 3 (ipykernel)",
   "language": "python",
   "name": "python3"
  },
  "language_info": {
   "codemirror_mode": {
    "name": "ipython",
    "version": 3
   },
   "file_extension": ".py",
   "mimetype": "text/x-python",
   "name": "python",
   "nbconvert_exporter": "python",
   "pygments_lexer": "ipython3",
   "version": "3.8.7"
  }
 },
 "nbformat": 4,
 "nbformat_minor": 5
}
