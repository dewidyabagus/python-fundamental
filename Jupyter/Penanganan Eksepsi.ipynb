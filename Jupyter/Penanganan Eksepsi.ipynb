{
 "cells": [
  {
   "cell_type": "markdown",
   "id": "dbe672a6",
   "metadata": {},
   "source": [
    "## Penanganan Eksepsi Python"
   ]
  },
  {
   "cell_type": "markdown",
   "id": "388f4420",
   "metadata": {},
   "source": [
    "Representasi kesalahan dalam bentuk object"
   ]
  },
  {
   "cell_type": "code",
   "execution_count": 1,
   "id": "8fe1929b",
   "metadata": {},
   "outputs": [
    {
     "ename": "SyntaxError",
     "evalue": "invalid syntax (Temp/ipykernel_14244/449297444.py, line 2)",
     "output_type": "error",
     "traceback": [
      "\u001b[1;36m  File \u001b[1;32m\"C:\\Users\\WIDYAA~1\\AppData\\Local\\Temp/ipykernel_14244/449297444.py\"\u001b[1;36m, line \u001b[1;32m2\u001b[0m\n\u001b[1;33m    if x > 5\u001b[0m\n\u001b[1;37m            ^\u001b[0m\n\u001b[1;31mSyntaxError\u001b[0m\u001b[1;31m:\u001b[0m invalid syntax\n"
     ]
    }
   ],
   "source": [
    "x = 5\n",
    "if x > 5"
   ]
  },
  {
   "cell_type": "code",
   "execution_count": 2,
   "id": "317deb81",
   "metadata": {},
   "outputs": [
    {
     "ename": "ZeroDivisionError",
     "evalue": "division by zero",
     "output_type": "error",
     "traceback": [
      "\u001b[1;31m---------------------------------------------------------------------------\u001b[0m",
      "\u001b[1;31mZeroDivisionError\u001b[0m                         Traceback (most recent call last)",
      "\u001b[1;32mC:\\Users\\WIDYAA~1\\AppData\\Local\\Temp/ipykernel_14244/3627099327.py\u001b[0m in \u001b[0;36m<module>\u001b[1;34m\u001b[0m\n\u001b[1;32m----> 1\u001b[1;33m \u001b[1;36m2\u001b[0m\u001b[1;33m/\u001b[0m\u001b[1;36m0\u001b[0m\u001b[1;33m\u001b[0m\u001b[1;33m\u001b[0m\u001b[0m\n\u001b[0m",
      "\u001b[1;31mZeroDivisionError\u001b[0m: division by zero"
     ]
    }
   ],
   "source": [
    "2/0"
   ]
  },
  {
   "cell_type": "markdown",
   "id": "269373da",
   "metadata": {},
   "source": [
    "Referensi Standard Exceptions <a href=\"https://belajarpython.com/tutorial/exception-python\">https://belajarpython.com/tutorial/exception-python</a>"
   ]
  },
  {
   "cell_type": "markdown",
   "id": "6d3a13ce",
   "metadata": {},
   "source": [
    "#### Menangani Eksepsi Dengan Try dan Except"
   ]
  },
  {
   "cell_type": "code",
   "execution_count": 4,
   "id": "a8b0a3f6",
   "metadata": {},
   "outputs": [
    {
     "name": "stdout",
     "output_type": "stream",
     "text": [
      "Item masuk: a\n",
      "Upss! <class 'ValueError'> terjadi.\n",
      "Lanjut ke item berikutnya\n",
      "\n",
      "Item masuk: 0\n",
      "Upss! <class 'ZeroDivisionError'> terjadi.\n",
      "Lanjut ke item berikutnya\n",
      "\n",
      "Item masuk: 4\n",
      "Pengembalian dari: 1/ 4 = 0.25\n"
     ]
    }
   ],
   "source": [
    "# mengimport modul sys untuk mengambil jenis eksepsi\n",
    "import sys\n",
    "\n",
    "data = ['a', 0, 4]\n",
    "for item in data:\n",
    "    try:\n",
    "        print('Item masuk:', item)\n",
    "        r = 1 / int(item)\n",
    "        break\n",
    "    \n",
    "    except:\n",
    "        print('Upss!', sys.exc_info()[0], 'terjadi.')\n",
    "        print('Lanjut ke item berikutnya')\n",
    "        print()\n",
    "\n",
    "print('Pengembalian dari: 1 /', item, '=', r)"
   ]
  },
  {
   "cell_type": "markdown",
   "id": "ffa4aefb",
   "metadata": {},
   "source": [
    "#### Menangani Eksepsi Tertentu"
   ]
  },
  {
   "cell_type": "code",
   "execution_count": 9,
   "id": "62ef3119",
   "metadata": {},
   "outputs": [],
   "source": [
    "# Penanganan eksepsi tertentu\n",
    "try:\n",
    "    # blok program yang dipantau\n",
    "    pass\n",
    "\n",
    "except ValueError:\n",
    "    # menangani eksepsi ValueError\n",
    "    pass\n",
    "\n",
    "except (ZeroDivisionError, KeyboardInterrupt):\n",
    "    # menangani multi eksepsi\n",
    "    # ZeroDivisionError dan KeyboardInterrupt\n",
    "    pass\n",
    "\n",
    "except:\n",
    "    # menangani eksepsi lainnya\n",
    "    pass"
   ]
  },
  {
   "cell_type": "markdown",
   "id": "af45e3c0",
   "metadata": {},
   "source": [
    "#### Memunculkan Eksepsi"
   ]
  },
  {
   "cell_type": "code",
   "execution_count": 11,
   "id": "f799857c",
   "metadata": {},
   "outputs": [
    {
     "name": "stdout",
     "output_type": "stream",
     "text": [
      "Masukan bilangan positif:-3\n",
      "Ini bukan bilangan positif!\n"
     ]
    }
   ],
   "source": [
    "# memunculkan eksepsi dengan kondisi tertentu\n",
    "try:\n",
    "    nilai = int(input(\"Masukan bilangan positif:\"))\n",
    "    \n",
    "    if nilai <= 0:\n",
    "        raise ValueError(\"Ini bukan bilangan positif!\")\n",
    "\n",
    "except ValueError as e:\n",
    "    print(e)\n",
    "   "
   ]
  },
  {
   "cell_type": "markdown",
   "id": "b4cb745d",
   "metadata": {},
   "source": [
    "#### Menangani Eksepsi Dengaan Try, Except dan Finally"
   ]
  },
  {
   "cell_type": "code",
   "execution_count": 15,
   "id": "2763812f",
   "metadata": {},
   "outputs": [],
   "source": [
    "# interaksi dengan file\n",
    "import sys\n",
    "\n",
    "try:\n",
    "    f = open(\"Perulangan.ipynb\") # membuka sesi file\n",
    "\n",
    "except:\n",
    "    print(\"Upps!\", sys.exc_info()[0], 'terjadi.')\n",
    "\n",
    "finally:\n",
    "    f.close() # menutup sesi file\n"
   ]
  }
 ],
 "metadata": {
  "kernelspec": {
   "display_name": "Python 3 (ipykernel)",
   "language": "python",
   "name": "python3"
  },
  "language_info": {
   "codemirror_mode": {
    "name": "ipython",
    "version": 3
   },
   "file_extension": ".py",
   "mimetype": "text/x-python",
   "name": "python",
   "nbconvert_exporter": "python",
   "pygments_lexer": "ipython3",
   "version": "3.8.7"
  }
 },
 "nbformat": 4,
 "nbformat_minor": 5
}
